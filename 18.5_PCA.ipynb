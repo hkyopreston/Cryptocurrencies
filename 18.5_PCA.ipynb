{
 "cells": [
  {
   "cell_type": "code",
   "execution_count": 17,
   "metadata": {},
   "outputs": [],
   "source": [
    "# Import Dependencies\n",
    "\n",
    "import pandas as pd\n",
    "from sklearn.preprocessing import StandardScaler\n",
    "from sklearn.decomposition import PCA\n",
    "from sklearn.cluster import KMeans\n",
    "import hvplot.pandas"
   ]
  },
  {
   "cell_type": "code",
   "execution_count": 18,
   "metadata": {},
   "outputs": [
    {
     "data": {
      "text/html": [
       "<div>\n",
       "<style scoped>\n",
       "    .dataframe tbody tr th:only-of-type {\n",
       "        vertical-align: middle;\n",
       "    }\n",
       "\n",
       "    .dataframe tbody tr th {\n",
       "        vertical-align: top;\n",
       "    }\n",
       "\n",
       "    .dataframe thead th {\n",
       "        text-align: right;\n",
       "    }\n",
       "</style>\n",
       "<table border=\"1\" class=\"dataframe\">\n",
       "  <thead>\n",
       "    <tr style=\"text-align: right;\">\n",
       "      <th></th>\n",
       "      <th>sepal_length</th>\n",
       "      <th>petal_length</th>\n",
       "      <th>sepal_width</th>\n",
       "      <th>petal_width</th>\n",
       "    </tr>\n",
       "  </thead>\n",
       "  <tbody>\n",
       "    <tr>\n",
       "      <th>0</th>\n",
       "      <td>5.1</td>\n",
       "      <td>1.4</td>\n",
       "      <td>3.5</td>\n",
       "      <td>0.2</td>\n",
       "    </tr>\n",
       "    <tr>\n",
       "      <th>1</th>\n",
       "      <td>4.9</td>\n",
       "      <td>1.4</td>\n",
       "      <td>3.0</td>\n",
       "      <td>0.2</td>\n",
       "    </tr>\n",
       "    <tr>\n",
       "      <th>2</th>\n",
       "      <td>4.7</td>\n",
       "      <td>1.3</td>\n",
       "      <td>3.2</td>\n",
       "      <td>0.2</td>\n",
       "    </tr>\n",
       "    <tr>\n",
       "      <th>3</th>\n",
       "      <td>4.6</td>\n",
       "      <td>1.5</td>\n",
       "      <td>3.1</td>\n",
       "      <td>0.2</td>\n",
       "    </tr>\n",
       "    <tr>\n",
       "      <th>4</th>\n",
       "      <td>5.0</td>\n",
       "      <td>1.4</td>\n",
       "      <td>3.6</td>\n",
       "      <td>0.2</td>\n",
       "    </tr>\n",
       "  </tbody>\n",
       "</table>\n",
       "</div>"
      ],
      "text/plain": [
       "   sepal_length  petal_length  sepal_width  petal_width\n",
       "0           5.1           1.4          3.5          0.2\n",
       "1           4.9           1.4          3.0          0.2\n",
       "2           4.7           1.3          3.2          0.2\n",
       "3           4.6           1.5          3.1          0.2\n",
       "4           5.0           1.4          3.6          0.2"
      ]
     },
     "execution_count": 18,
     "metadata": {},
     "output_type": "execute_result"
    }
   ],
   "source": [
    "# Loading the preprocessed iris dataset\n",
    "\n",
    "file_path = \"new_iris_data.csv\"\n",
    "df_iris = pd.read_csv(file_path)\n",
    "df_iris.head()"
   ]
  },
  {
   "cell_type": "code",
   "execution_count": 19,
   "metadata": {},
   "outputs": [
    {
     "name": "stdout",
     "output_type": "stream",
     "text": [
      "[[-0.90068117 -1.3412724   1.03205722 -1.31297673]\n",
      " [-1.14301691 -1.3412724  -0.1249576  -1.31297673]\n",
      " [-1.38535265 -1.39813811  0.33784833 -1.31297673]\n",
      " [-1.50652052 -1.2844067   0.10644536 -1.31297673]\n",
      " [-1.02184904 -1.3412724   1.26346019 -1.31297673]]\n"
     ]
    }
   ],
   "source": [
    "# Standardize data with StandardSclaer\n",
    "\n",
    "iris_scaled = StandardScaler().fit_transform(df_iris)\n",
    "print(iris_scaled[0:5])"
   ]
  },
  {
   "cell_type": "code",
   "execution_count": 20,
   "metadata": {},
   "outputs": [],
   "source": [
    "# Initialize PCA model\n",
    "\n",
    "pca = PCA(n_components=2)"
   ]
  },
  {
   "cell_type": "code",
   "execution_count": 21,
   "metadata": {},
   "outputs": [],
   "source": [
    "# Get two principal components from the iris data. \n",
    "\n",
    "iris_pca = pca.fit_transform(iris_scaled)"
   ]
  },
  {
   "cell_type": "code",
   "execution_count": 22,
   "metadata": {},
   "outputs": [
    {
     "data": {
      "text/html": [
       "<div>\n",
       "<style scoped>\n",
       "    .dataframe tbody tr th:only-of-type {\n",
       "        vertical-align: middle;\n",
       "    }\n",
       "\n",
       "    .dataframe tbody tr th {\n",
       "        vertical-align: top;\n",
       "    }\n",
       "\n",
       "    .dataframe thead th {\n",
       "        text-align: right;\n",
       "    }\n",
       "</style>\n",
       "<table border=\"1\" class=\"dataframe\">\n",
       "  <thead>\n",
       "    <tr style=\"text-align: right;\">\n",
       "      <th></th>\n",
       "      <th>principal component 1</th>\n",
       "      <th>principal component 2</th>\n",
       "    </tr>\n",
       "  </thead>\n",
       "  <tbody>\n",
       "    <tr>\n",
       "      <th>0</th>\n",
       "      <td>-2.264542</td>\n",
       "      <td>0.505704</td>\n",
       "    </tr>\n",
       "    <tr>\n",
       "      <th>1</th>\n",
       "      <td>-2.086426</td>\n",
       "      <td>-0.655405</td>\n",
       "    </tr>\n",
       "    <tr>\n",
       "      <th>2</th>\n",
       "      <td>-2.367950</td>\n",
       "      <td>-0.318477</td>\n",
       "    </tr>\n",
       "    <tr>\n",
       "      <th>3</th>\n",
       "      <td>-2.304197</td>\n",
       "      <td>-0.575368</td>\n",
       "    </tr>\n",
       "    <tr>\n",
       "      <th>4</th>\n",
       "      <td>-2.388777</td>\n",
       "      <td>0.674767</td>\n",
       "    </tr>\n",
       "  </tbody>\n",
       "</table>\n",
       "</div>"
      ],
      "text/plain": [
       "   principal component 1  principal component 2\n",
       "0              -2.264542               0.505704\n",
       "1              -2.086426              -0.655405\n",
       "2              -2.367950              -0.318477\n",
       "3              -2.304197              -0.575368\n",
       "4              -2.388777               0.674767"
      ]
     },
     "execution_count": 22,
     "metadata": {},
     "output_type": "execute_result"
    }
   ],
   "source": [
    "# Transform PCA data to a DataFrame\n",
    "\n",
    "df_iris_pca = pd.DataFrame(\n",
    "    data=iris_pca, columns=[\"principal component 1\", \"principal component 2\"])\n",
    "df_iris_pca.head()"
   ]
  },
  {
   "cell_type": "code",
   "execution_count": 23,
   "metadata": {},
   "outputs": [
    {
     "data": {
      "text/plain": [
       "array([0.72770452, 0.23030523])"
      ]
     },
     "execution_count": 23,
     "metadata": {},
     "output_type": "execute_result"
    }
   ],
   "source": [
    "# Used explained variance ratio to learn how much info can be attributed to each principal component\n",
    "# Fetch the explained variance\n",
    "\n",
    "pca.explained_variance_ratio_"
   ]
  },
  {
   "cell_type": "code",
   "execution_count": 24,
   "metadata": {},
   "outputs": [],
   "source": [
    "# What this tells us, is that the first principal component contains 72.77% of the variance \n",
    "# and the second contains 23.03%. \n",
    "# Together, they contain 95.80% of the information."
   ]
  },
  {
   "cell_type": "code",
   "execution_count": 25,
   "metadata": {},
   "outputs": [
    {
     "data": {},
     "metadata": {},
     "output_type": "display_data"
    },
    {
     "data": {
      "application/vnd.holoviews_exec.v0+json": "",
      "text/html": [
       "<div id='1346'>\n",
       "\n",
       "\n",
       "\n",
       "\n",
       "\n",
       "  <div class=\"bk-root\" id=\"aa73335f-376c-4012-a472-32de58da07ee\" data-root-id=\"1346\"></div>\n",
       "</div>\n",
       "<script type=\"application/javascript\">(function(root) {\n",
       "  function embed_document(root) {\n",
       "  var docs_json = {\"b096abee-a37f-4fba-b782-17d593fc8077\":{\"roots\":{\"references\":[{\"attributes\":{\"source\":{\"id\":\"1381\"}},\"id\":\"1388\",\"type\":\"CDSView\"},{\"attributes\":{\"data_source\":{\"id\":\"1381\"},\"glyph\":{\"id\":\"1384\"},\"hover_glyph\":null,\"muted_glyph\":{\"id\":\"1386\"},\"nonselection_glyph\":{\"id\":\"1385\"},\"selection_glyph\":null,\"view\":{\"id\":\"1388\"}},\"id\":\"1387\",\"type\":\"GlyphRenderer\"},{\"attributes\":{\"children\":[{\"id\":\"1347\"},{\"id\":\"1351\"},{\"id\":\"1403\"}],\"margin\":[0,0,0,0],\"name\":\"Row02326\",\"tags\":[\"embedded\"]},\"id\":\"1346\",\"type\":\"Row\"},{\"attributes\":{\"callback\":null,\"renderers\":[{\"id\":\"1387\"}],\"tags\":[\"hv_created\"],\"tooltips\":[[\"k\",\"@{k}\"],[\"inertia\",\"@{inertia}\"]]},\"id\":\"1350\",\"type\":\"HoverTool\"},{\"attributes\":{},\"id\":\"1372\",\"type\":\"ResetTool\"},{\"attributes\":{\"bottom_units\":\"screen\",\"fill_alpha\":0.5,\"fill_color\":\"lightgrey\",\"left_units\":\"screen\",\"level\":\"overlay\",\"line_alpha\":1.0,\"line_color\":\"black\",\"line_dash\":[4,4],\"line_width\":2,\"render_mode\":\"css\",\"right_units\":\"screen\",\"top_units\":\"screen\"},\"id\":\"1373\",\"type\":\"BoxAnnotation\"},{\"attributes\":{\"margin\":[5,5,5,5],\"name\":\"HSpacer02330\",\"sizing_mode\":\"stretch_width\"},\"id\":\"1347\",\"type\":\"Spacer\"},{\"attributes\":{},\"id\":\"1358\",\"type\":\"LinearScale\"},{\"attributes\":{\"axis\":{\"id\":\"1364\"},\"dimension\":1,\"grid_line_color\":null,\"ticker\":null},\"id\":\"1367\",\"type\":\"Grid\"},{\"attributes\":{\"end\":629.4464234300631,\"reset_end\":629.4464234300631,\"reset_start\":-26.24043170399356,\"start\":-26.24043170399356,\"tags\":[[[\"inertia\",\"inertia\",null]]]},\"id\":\"1349\",\"type\":\"Range1d\"},{\"attributes\":{},\"id\":\"1356\",\"type\":\"LinearScale\"},{\"attributes\":{\"axis_label\":\"k\",\"bounds\":\"auto\",\"formatter\":{\"id\":\"1391\"},\"major_label_orientation\":\"horizontal\",\"ticker\":{\"id\":\"1389\"}},\"id\":\"1360\",\"type\":\"LinearAxis\"},{\"attributes\":{\"data\":{\"inertia\":{\"__ndarray__\":\"ZzafYnL2gUAubWBmntZoQKGmqsr9Bl1AiO/4E2huVkDf0qR94pNQQPLj3qojokxAjBm84Hb7R0CWL3dCGh9EQMJsY3u0F0BAKerHi29mPEA=\",\"dtype\":\"float64\",\"shape\":[10]},\"k\":[1,2,3,4,5,6,7,8,9,10]},\"selected\":{\"id\":\"1382\"},\"selection_policy\":{\"id\":\"1402\"}},\"id\":\"1381\",\"type\":\"ColumnDataSource\"},{\"attributes\":{\"align\":null,\"below\":[{\"id\":\"1360\"}],\"center\":[{\"id\":\"1363\"},{\"id\":\"1367\"}],\"left\":[{\"id\":\"1364\"}],\"margin\":null,\"min_border_bottom\":10,\"min_border_left\":10,\"min_border_right\":10,\"min_border_top\":10,\"plot_height\":300,\"plot_width\":700,\"renderers\":[{\"id\":\"1387\"}],\"sizing_mode\":\"fixed\",\"title\":{\"id\":\"1352\"},\"toolbar\":{\"id\":\"1374\"},\"x_range\":{\"id\":\"1348\"},\"x_scale\":{\"id\":\"1356\"},\"y_range\":{\"id\":\"1349\"},\"y_scale\":{\"id\":\"1358\"}},\"id\":\"1351\",\"subtype\":\"Figure\",\"type\":\"Plot\"},{\"attributes\":{\"axis\":{\"id\":\"1360\"},\"grid_line_color\":null,\"ticker\":null},\"id\":\"1363\",\"type\":\"Grid\"},{\"attributes\":{},\"id\":\"1365\",\"type\":\"BasicTicker\"},{\"attributes\":{\"axis_label\":\"inertia\",\"bounds\":\"auto\",\"formatter\":{\"id\":\"1395\"},\"major_label_orientation\":\"horizontal\",\"ticker\":{\"id\":\"1365\"}},\"id\":\"1364\",\"type\":\"LinearAxis\"},{\"attributes\":{},\"id\":\"1402\",\"type\":\"UnionRenderers\"},{\"attributes\":{\"overlay\":{\"id\":\"1373\"}},\"id\":\"1371\",\"type\":\"BoxZoomTool\"},{\"attributes\":{\"line_alpha\":0.1,\"line_color\":\"#1f77b3\",\"line_width\":2,\"x\":{\"field\":\"k\"},\"y\":{\"field\":\"inertia\"}},\"id\":\"1385\",\"type\":\"Line\"},{\"attributes\":{\"text\":\"Elbow Curve\",\"text_color\":{\"value\":\"black\"},\"text_font_size\":{\"value\":\"12pt\"}},\"id\":\"1352\",\"type\":\"Title\"},{\"attributes\":{},\"id\":\"1395\",\"type\":\"BasicTickFormatter\"},{\"attributes\":{\"line_alpha\":0.2,\"line_color\":\"#1f77b3\",\"line_width\":2,\"x\":{\"field\":\"k\"},\"y\":{\"field\":\"inertia\"}},\"id\":\"1386\",\"type\":\"Line\"},{\"attributes\":{\"ticks\":[1,2,3,4,5,6,7,8,9,10]},\"id\":\"1389\",\"type\":\"FixedTicker\"},{\"attributes\":{},\"id\":\"1368\",\"type\":\"SaveTool\"},{\"attributes\":{\"end\":10.0,\"reset_end\":10.0,\"reset_start\":1.0,\"start\":1.0,\"tags\":[[[\"k\",\"k\",null]]]},\"id\":\"1348\",\"type\":\"Range1d\"},{\"attributes\":{},\"id\":\"1391\",\"type\":\"BasicTickFormatter\"},{\"attributes\":{},\"id\":\"1369\",\"type\":\"PanTool\"},{\"attributes\":{\"line_color\":\"#1f77b3\",\"line_width\":2,\"x\":{\"field\":\"k\"},\"y\":{\"field\":\"inertia\"}},\"id\":\"1384\",\"type\":\"Line\"},{\"attributes\":{},\"id\":\"1370\",\"type\":\"WheelZoomTool\"},{\"attributes\":{},\"id\":\"1382\",\"type\":\"Selection\"},{\"attributes\":{\"margin\":[5,5,5,5],\"name\":\"HSpacer02331\",\"sizing_mode\":\"stretch_width\"},\"id\":\"1403\",\"type\":\"Spacer\"},{\"attributes\":{\"active_drag\":\"auto\",\"active_inspect\":\"auto\",\"active_multi\":null,\"active_scroll\":\"auto\",\"active_tap\":\"auto\",\"tools\":[{\"id\":\"1350\"},{\"id\":\"1368\"},{\"id\":\"1369\"},{\"id\":\"1370\"},{\"id\":\"1371\"},{\"id\":\"1372\"}]},\"id\":\"1374\",\"type\":\"Toolbar\"}],\"root_ids\":[\"1346\"]},\"title\":\"Bokeh Application\",\"version\":\"2.0.2\"}};\n",
       "  var render_items = [{\"docid\":\"b096abee-a37f-4fba-b782-17d593fc8077\",\"root_ids\":[\"1346\"],\"roots\":{\"1346\":\"aa73335f-376c-4012-a472-32de58da07ee\"}}];\n",
       "  root.Bokeh.embed.embed_items_notebook(docs_json, render_items);\n",
       "  }\n",
       "if (root.Bokeh !== undefined) {\n",
       "    embed_document(root);\n",
       "  } else {\n",
       "    var attempts = 0;\n",
       "    var timer = setInterval(function(root) {\n",
       "      if (root.Bokeh !== undefined) {\n",
       "        clearInterval(timer);\n",
       "        embed_document(root);\n",
       "      } else if (document.readyState == \"complete\") {\n",
       "        attempts++;\n",
       "        if (attempts > 100) {\n",
       "          clearInterval(timer);\n",
       "          console.log(\"Bokeh: ERROR: Unable to run BokehJS code because BokehJS library is missing\");\n",
       "        }\n",
       "      }\n",
       "    }, 10, root)\n",
       "  }\n",
       "})(window);</script>"
      ],
      "text/plain": [
       ":Curve   [k]   (inertia)"
      ]
     },
     "execution_count": 25,
     "metadata": {
      "application/vnd.holoviews_exec.v0+json": {
       "id": "1346"
      }
     },
     "output_type": "execute_result"
    }
   ],
   "source": [
    "# Use the elbow curve with the generated principal components and see the K value is 3\n",
    "\n",
    "# Find the best value for K\n",
    "inertia = []\n",
    "k = list(range(1, 11))\n",
    "\n",
    "# Calculate the inertia for the range of K values\n",
    "for i in k:\n",
    "\tkm = KMeans(n_clusters=i, random_state=0)\n",
    "\tkm.fit(df_iris_pca)\n",
    "\tinertia.append(km.inertia_)\n",
    "\n",
    "# Create the elbow curve\n",
    "elbow_data = {\"k\": k, \"inertia\": inertia}\n",
    "df_elbow = pd.DataFrame(elbow_data)\n",
    "df_elbow.hvplot.line(x=\"k\", y=\"inertia\", xticks=k, title=\"Elbow Curve\")"
   ]
  },
  {
   "cell_type": "code",
   "execution_count": 26,
   "metadata": {},
   "outputs": [
    {
     "data": {
      "text/html": [
       "<div>\n",
       "<style scoped>\n",
       "    .dataframe tbody tr th:only-of-type {\n",
       "        vertical-align: middle;\n",
       "    }\n",
       "\n",
       "    .dataframe tbody tr th {\n",
       "        vertical-align: top;\n",
       "    }\n",
       "\n",
       "    .dataframe thead th {\n",
       "        text-align: right;\n",
       "    }\n",
       "</style>\n",
       "<table border=\"1\" class=\"dataframe\">\n",
       "  <thead>\n",
       "    <tr style=\"text-align: right;\">\n",
       "      <th></th>\n",
       "      <th>principal component 1</th>\n",
       "      <th>principal component 2</th>\n",
       "      <th>class</th>\n",
       "    </tr>\n",
       "  </thead>\n",
       "  <tbody>\n",
       "    <tr>\n",
       "      <th>0</th>\n",
       "      <td>-2.264542</td>\n",
       "      <td>0.505704</td>\n",
       "      <td>1</td>\n",
       "    </tr>\n",
       "    <tr>\n",
       "      <th>1</th>\n",
       "      <td>-2.086426</td>\n",
       "      <td>-0.655405</td>\n",
       "      <td>1</td>\n",
       "    </tr>\n",
       "    <tr>\n",
       "      <th>2</th>\n",
       "      <td>-2.367950</td>\n",
       "      <td>-0.318477</td>\n",
       "      <td>1</td>\n",
       "    </tr>\n",
       "    <tr>\n",
       "      <th>3</th>\n",
       "      <td>-2.304197</td>\n",
       "      <td>-0.575368</td>\n",
       "      <td>1</td>\n",
       "    </tr>\n",
       "    <tr>\n",
       "      <th>4</th>\n",
       "      <td>-2.388777</td>\n",
       "      <td>0.674767</td>\n",
       "      <td>1</td>\n",
       "    </tr>\n",
       "  </tbody>\n",
       "</table>\n",
       "</div>"
      ],
      "text/plain": [
       "   principal component 1  principal component 2  class\n",
       "0              -2.264542               0.505704      1\n",
       "1              -2.086426              -0.655405      1\n",
       "2              -2.367950              -0.318477      1\n",
       "3              -2.304197              -0.575368      1\n",
       "4              -2.388777               0.674767      1"
      ]
     },
     "execution_count": 26,
     "metadata": {},
     "output_type": "execute_result"
    }
   ],
   "source": [
    "# Use the principal components data with the K-means algorithm with a K value of 3\n",
    "\n",
    "# Initialize the K-means model\n",
    "model = KMeans(n_clusters=3, random_state=0)\n",
    "\n",
    "# Fit the model\n",
    "model.fit(df_iris_pca)\n",
    "\n",
    "# Predict clusters\n",
    "predictions = model.predict(df_iris_pca)\n",
    "\n",
    "# Add the predicted class columns\n",
    "df_iris_pca[\"class\"] = model.labels_\n",
    "df_iris_pca.head()"
   ]
  },
  {
   "cell_type": "code",
   "execution_count": 27,
   "metadata": {},
   "outputs": [
    {
     "data": {},
     "metadata": {},
     "output_type": "display_data"
    },
    {
     "data": {
      "application/vnd.holoviews_exec.v0+json": "",
      "text/html": [
       "<div id='1440'>\n",
       "\n",
       "\n",
       "\n",
       "\n",
       "\n",
       "  <div class=\"bk-root\" id=\"5845f8ad-24f8-4eff-99f4-8bc0a4734d78\" data-root-id=\"1440\"></div>\n",
       "</div>\n",
       "<script type=\"application/javascript\">(function(root) {\n",
       "  function embed_document(root) {\n",
       "  var docs_json = {\"f9befd3c-6ddf-4e02-a218-a6fcf875b592\":{\"roots\":{\"references\":[{\"attributes\":{\"click_policy\":\"mute\",\"items\":[{\"id\":\"1496\"},{\"id\":\"1513\"},{\"id\":\"1532\"}],\"location\":[0,0],\"title\":\"class\"},\"id\":\"1495\",\"type\":\"Legend\"},{\"attributes\":{\"data_source\":{\"id\":\"1481\"},\"glyph\":{\"id\":\"1484\"},\"hover_glyph\":null,\"muted_glyph\":{\"id\":\"1486\"},\"nonselection_glyph\":{\"id\":\"1485\"},\"selection_glyph\":null,\"view\":{\"id\":\"1488\"}},\"id\":\"1487\",\"type\":\"GlyphRenderer\"},{\"attributes\":{},\"id\":\"1480\",\"type\":\"BasicTickFormatter\"},{\"attributes\":{\"callback\":null,\"renderers\":[{\"id\":\"1487\"},{\"id\":\"1503\"},{\"id\":\"1520\"}],\"tags\":[\"hv_created\"],\"tooltips\":[[\"class\",\"@{class}\"],[\"principal component 1\",\"@{principal_component_1}\"],[\"principal component 2\",\"@{principal_component_2}\"]]},\"id\":\"1444\",\"type\":\"HoverTool\"},{\"attributes\":{\"label\":{\"value\":\"0\"},\"renderers\":[{\"id\":\"1487\"}]},\"id\":\"1496\",\"type\":\"LegendItem\"},{\"attributes\":{},\"id\":\"1515\",\"type\":\"Selection\"},{\"attributes\":{\"bottom_units\":\"screen\",\"fill_alpha\":0.5,\"fill_color\":\"lightgrey\",\"left_units\":\"screen\",\"level\":\"overlay\",\"line_alpha\":1.0,\"line_color\":\"black\",\"line_dash\":[4,4],\"line_width\":2,\"render_mode\":\"css\",\"right_units\":\"screen\",\"top_units\":\"screen\"},\"id\":\"1469\",\"type\":\"BoxAnnotation\"},{\"attributes\":{},\"id\":\"1482\",\"type\":\"Selection\"},{\"attributes\":{\"axis\":{\"id\":\"1456\"},\"grid_line_color\":null,\"ticker\":null},\"id\":\"1459\",\"type\":\"Grid\"},{\"attributes\":{},\"id\":\"1464\",\"type\":\"SaveTool\"},{\"attributes\":{\"source\":{\"id\":\"1481\"}},\"id\":\"1488\",\"type\":\"CDSView\"},{\"attributes\":{\"source\":{\"id\":\"1497\"}},\"id\":\"1504\",\"type\":\"CDSView\"},{\"attributes\":{\"align\":null,\"below\":[{\"id\":\"1456\"}],\"center\":[{\"id\":\"1459\"},{\"id\":\"1463\"}],\"left\":[{\"id\":\"1460\"}],\"margin\":null,\"min_border_bottom\":10,\"min_border_left\":10,\"min_border_right\":10,\"min_border_top\":10,\"plot_height\":300,\"plot_width\":700,\"renderers\":[{\"id\":\"1487\"},{\"id\":\"1503\"},{\"id\":\"1520\"}],\"right\":[{\"id\":\"1495\"}],\"sizing_mode\":\"fixed\",\"title\":{\"id\":\"1448\"},\"toolbar\":{\"id\":\"1470\"},\"x_range\":{\"id\":\"1442\"},\"x_scale\":{\"id\":\"1452\"},\"y_range\":{\"id\":\"1443\"},\"y_scale\":{\"id\":\"1454\"}},\"id\":\"1447\",\"subtype\":\"Figure\",\"type\":\"Plot\"},{\"attributes\":{\"margin\":[5,5,5,5],\"name\":\"HSpacer02561\",\"sizing_mode\":\"stretch_width\"},\"id\":\"1441\",\"type\":\"Spacer\"},{\"attributes\":{\"fill_color\":{\"value\":\"#1f77b3\"},\"line_color\":{\"value\":\"#1f77b3\"},\"size\":{\"units\":\"screen\",\"value\":5.477225575051661},\"x\":{\"field\":\"principal component 1\"},\"y\":{\"field\":\"principal component 2\"}},\"id\":\"1484\",\"type\":\"Scatter\"},{\"attributes\":{\"fill_alpha\":{\"value\":0.2},\"fill_color\":{\"value\":\"#2ba02b\"},\"line_alpha\":{\"value\":0.2},\"line_color\":{\"value\":\"#2ba02b\"},\"size\":{\"units\":\"screen\",\"value\":5.477225575051661},\"x\":{\"field\":\"principal component 1\"},\"y\":{\"field\":\"principal component 2\"}},\"id\":\"1519\",\"type\":\"Scatter\"},{\"attributes\":{},\"id\":\"1512\",\"type\":\"UnionRenderers\"},{\"attributes\":{},\"id\":\"1498\",\"type\":\"Selection\"},{\"attributes\":{},\"id\":\"1478\",\"type\":\"BasicTickFormatter\"},{\"attributes\":{},\"id\":\"1466\",\"type\":\"WheelZoomTool\"},{\"attributes\":{\"source\":{\"id\":\"1514\"}},\"id\":\"1521\",\"type\":\"CDSView\"},{\"attributes\":{\"axis_label\":\"principal component 2\",\"bounds\":\"auto\",\"formatter\":{\"id\":\"1480\"},\"major_label_orientation\":\"horizontal\",\"ticker\":{\"id\":\"1461\"}},\"id\":\"1460\",\"type\":\"LinearAxis\"},{\"attributes\":{\"overlay\":{\"id\":\"1469\"}},\"id\":\"1467\",\"type\":\"BoxZoomTool\"},{\"attributes\":{\"data\":{\"class\":{\"__ndarray__\":\"AgAAAAIAAAACAAAAAgAAAAIAAAACAAAAAgAAAAIAAAACAAAAAgAAAAIAAAACAAAAAgAAAAIAAAACAAAAAgAAAAIAAAACAAAAAgAAAAIAAAACAAAAAgAAAAIAAAACAAAAAgAAAAIAAAACAAAAAgAAAAIAAAACAAAAAgAAAAIAAAACAAAAAgAAAAIAAAACAAAAAgAAAAIAAAACAAAAAgAAAAIAAAACAAAAAgAAAAIAAAACAAAAAgAAAAIAAAACAAAAAgAAAAIAAAACAAAAAgAAAAIAAAA=\",\"dtype\":\"int32\",\"shape\":[53]},\"principal component 1\":{\"__ndarray__\":\"bRWMhntt2T9JnJZFWCnxP16BHlf2mtg/A/8dZv7c3791GywXnaPtP5S8kDZaWXQ/aN6FPizsv7+sz+h8JxTcP1NNsk78puE/N0UqJwTz5j/oz63ghxOjv4xu06S8RdY/0LIv7V2iwz9k6iTH4XHzPxbYZACmFsQ/V61SDE473j8QyjX41qXzP4cxy7fjI+Q/HtCK7kVq5j8dhVUnIzDlP/gb1FJINai/ED98rN0cvz+Fjlg5BOqMPxLf6GWaNc4/DM1ZRTXo8D+DsJMoZVfMP86bvwf1kvA/kV4TnFcrsT9nNwN1kKDRP7d9yQ7wbdE/oo3+VwPx4z+u3kvRzh7VP9/EFNWD6de/yiTllsIb0j8eX21EL8y2P/UjQhu5t8w/8wRG5kBd4j/ujFDrsj/dv9eA0gDGJNA/218IKHdz8j/doUp+m+/WP1f35HGkDPQ/GOKIxsts9z/4RPpdThD0P4ditwdQKu8/8oqkmmBE9T9hfP3wHsDyP972a9zEx/E/JjazatUo8z+VvvFQw4ztP9tfCCh3c/I/SNVbMZXv+D812SvtkrLuPw==\",\"dtype\":\"float64\",\"shape\":[53]},\"principal component 2\":{\"__ndarray__\":\"kM0hw3Uh/L+XAFcJ4hrLv+wVlNb76eK/XpSza/eU/b+Fi2FUCw+fP+TLA01tePC/8YKEXbZDBcCe9gYTsCWuv0nNqHx+XPy/1nstxk+8x78pLLY26rLbv/u9JkVKZsi/konUeJ9N6b9i5T6HOSL6v7tAi9CC2fS/twipiLWp2r9Ir8dW+Rvuv+XFU70Krdq/JjfCViNBsL9aGdg+X7fMv2gFEZBX6vC/acJ8cXkE+b9q1i92nSz5v0OekB1e1Oi/Cy0SzX5h5L9qbj2aaPnRv7yLs++KR/a/fcdo/yc3y788ZwsN7Ub1vyMJ/oM76fG/6sUd1SI0nD9l68QlE6Xvv83C5Ku5JADAnks7dJBT67+hjkY+Z2PGv0j2R1TcWdi/gTq1mhitw7+z+86JpaH4v6N6HI5KEeO/RghbdkNx5r84lg29Jfb4v44xaImirfK/n69g7els3L9OKnQyOXv7vz3NWXwPR+K/QmwdsBUn37/C2YlbzWjUv/2TgLFv8dK/Sa/b9jwm6r+aAFtSILGTP0YIW3ZDcea/v1rVOlT47L+gCSw2mtGWvw==\",\"dtype\":\"float64\",\"shape\":[53]},\"principal_component_1\":{\"__ndarray__\":\"bRWMhntt2T9JnJZFWCnxP16BHlf2mtg/A/8dZv7c3791GywXnaPtP5S8kDZaWXQ/aN6FPizsv7+sz+h8JxTcP1NNsk78puE/N0UqJwTz5j/oz63ghxOjv4xu06S8RdY/0LIv7V2iwz9k6iTH4XHzPxbYZACmFsQ/V61SDE473j8QyjX41qXzP4cxy7fjI+Q/HtCK7kVq5j8dhVUnIzDlP/gb1FJINai/ED98rN0cvz+Fjlg5BOqMPxLf6GWaNc4/DM1ZRTXo8D+DsJMoZVfMP86bvwf1kvA/kV4TnFcrsT9nNwN1kKDRP7d9yQ7wbdE/oo3+VwPx4z+u3kvRzh7VP9/EFNWD6de/yiTllsIb0j8eX21EL8y2P/UjQhu5t8w/8wRG5kBd4j/ujFDrsj/dv9eA0gDGJNA/218IKHdz8j/doUp+m+/WP1f35HGkDPQ/GOKIxsts9z/4RPpdThD0P4ditwdQKu8/8oqkmmBE9T9hfP3wHsDyP972a9zEx/E/JjazatUo8z+VvvFQw4ztP9tfCCh3c/I/SNVbMZXv+D812SvtkrLuPw==\",\"dtype\":\"float64\",\"shape\":[53]},\"principal_component_2\":{\"__ndarray__\":\"kM0hw3Uh/L+XAFcJ4hrLv+wVlNb76eK/XpSza/eU/b+Fi2FUCw+fP+TLA01tePC/8YKEXbZDBcCe9gYTsCWuv0nNqHx+XPy/1nstxk+8x78pLLY26rLbv/u9JkVKZsi/konUeJ9N6b9i5T6HOSL6v7tAi9CC2fS/twipiLWp2r9Ir8dW+Rvuv+XFU70Krdq/JjfCViNBsL9aGdg+X7fMv2gFEZBX6vC/acJ8cXkE+b9q1i92nSz5v0OekB1e1Oi/Cy0SzX5h5L9qbj2aaPnRv7yLs++KR/a/fcdo/yc3y788ZwsN7Ub1vyMJ/oM76fG/6sUd1SI0nD9l68QlE6Xvv83C5Ku5JADAnks7dJBT67+hjkY+Z2PGv0j2R1TcWdi/gTq1mhitw7+z+86JpaH4v6N6HI5KEeO/RghbdkNx5r84lg29Jfb4v44xaImirfK/n69g7els3L9OKnQyOXv7vz3NWXwPR+K/QmwdsBUn37/C2YlbzWjUv/2TgLFv8dK/Sa/b9jwm6r+aAFtSILGTP0YIW3ZDcea/v1rVOlT47L+gCSw2mtGWvw==\",\"dtype\":\"float64\",\"shape\":[53]}},\"selected\":{\"id\":\"1515\"},\"selection_policy\":{\"id\":\"1544\"}},\"id\":\"1514\",\"type\":\"ColumnDataSource\"},{\"attributes\":{},\"id\":\"1454\",\"type\":\"LinearScale\"},{\"attributes\":{},\"id\":\"1544\",\"type\":\"UnionRenderers\"},{\"attributes\":{},\"id\":\"1457\",\"type\":\"BasicTicker\"},{\"attributes\":{\"data\":{\"class\":{\"__ndarray__\":\"AAAAAAAAAAAAAAAAAAAAAAAAAAAAAAAAAAAAAAAAAAAAAAAAAAAAAAAAAAAAAAAAAAAAAAAAAAAAAAAAAAAAAAAAAAAAAAAAAAAAAAAAAAAAAAAAAAAAAAAAAAAAAAAAAAAAAAAAAAAAAAAAAAAAAAAAAAAAAAAAAAAAAAAAAAAAAAAAAAAAAAAAAAAAAAAAAAAAAAAAAAAAAAAAAAAAAAAAAAAAAAAAAAAAAAAAAAAAAAAAAAAAAAAAAAA=\",\"dtype\":\"int32\",\"shape\":[47]},\"principal component 1\":{\"__ndarray__\":\"eJicP/Wp8T/sdLjqfHDnP0tUdjeu3/M/kH2nUXn15z+Bt9eWSwfsPwLqCkTLn+c/a4kX1wP06z/tYaNJSxH0PxdwyrRZu/U/YiqW1lWi2z+mboqoZcrwP2JoZCMRkP0/XqOtkJqmAUCskwP82gT3P8Gof1zh4v0/c0K5SJgIBkDmZzhbjmwCQPQm68uNAwBAI09oqvMjAkBui3vYw9r1P6wQOb/Elfk/O66UReUl/j8a0QQIDXj5P3kdkBhdivc/Q/YnSsB/A0AyhisDH3kKQJfn9rPvUgBAOS4taDwvB0BCqLnnkUT7P6oJnj3aUv8/HdLu7wVR8D+d2hYHfpP8P4MbVl0h1v0/i/hsDuZ7A0A1tjE3VocCQGgtB9QUxP0/kE42KVhoBkCy+a/eUEj5P/DOTXR+jfU/PwUQICao/T8PDMQGFyEAQL1qwqkqc/4/OQ5TGLJYAEC4eb2NdgMAQPDgNY2o7f0/9oJComFV+D8L9OTEsgX2Pw==\",\"dtype\":\"float64\",\"shape\":[47]},\"principal component 2\":{\"__ndarray__\":\"zHb2/Z2e6z8XPDfKBSjjP9DNPSGgrOM/sV+rWRnr6D9bOXqk51HgP5hBqiETwtk/U57yIJwL0D85iLBClya1vzoteShkC9U/DAg+Gkhd6z+4k6QJ17XgP4Ysy2Xw5Os/A8TpFji+4T+GlDOr+pqpv/JEGSLnotI/lwetLdY66T8/O0mDhTXaP7GQnq/nKee/u42XATu+/j8yoQKF0jTmP2p9L85taNu/aKdDi22E2j8xfGgVRqrlPzM3rDJONNA/fjlsMT10BEC0k6QTDFhjvz10hSJpCe0/VJKR42l12T+PWt+y8znwP5mAK36oDfA/eqj7cmzHsD/avEvBKb3Iv4jkXX2vxeE/rV7ipF+Szz8f4TWwbAIFQIOBO1NYo8e/Qys1XS0I6z+nj2oE2yjxPx38A+M9Bts/uKTAq3yE5T/Y+zteX4jjP9x2Ilnq8+U/uSJfoH+r6z87eOdp3MbwP/ZDMiongNg/eNtvjSkT0T8gLdG5BEPwPw==\",\"dtype\":\"float64\",\"shape\":[47]},\"principal_component_1\":{\"__ndarray__\":\"eJicP/Wp8T/sdLjqfHDnP0tUdjeu3/M/kH2nUXn15z+Bt9eWSwfsPwLqCkTLn+c/a4kX1wP06z/tYaNJSxH0PxdwyrRZu/U/YiqW1lWi2z+mboqoZcrwP2JoZCMRkP0/XqOtkJqmAUCskwP82gT3P8Gof1zh4v0/c0K5SJgIBkDmZzhbjmwCQPQm68uNAwBAI09oqvMjAkBui3vYw9r1P6wQOb/Elfk/O66UReUl/j8a0QQIDXj5P3kdkBhdivc/Q/YnSsB/A0AyhisDH3kKQJfn9rPvUgBAOS4taDwvB0BCqLnnkUT7P6oJnj3aUv8/HdLu7wVR8D+d2hYHfpP8P4MbVl0h1v0/i/hsDuZ7A0A1tjE3VocCQGgtB9QUxP0/kE42KVhoBkCy+a/eUEj5P/DOTXR+jfU/PwUQICao/T8PDMQGFyEAQL1qwqkqc/4/OQ5TGLJYAEC4eb2NdgMAQPDgNY2o7f0/9oJComFV+D8L9OTEsgX2Pw==\",\"dtype\":\"float64\",\"shape\":[47]},\"principal_component_2\":{\"__ndarray__\":\"zHb2/Z2e6z8XPDfKBSjjP9DNPSGgrOM/sV+rWRnr6D9bOXqk51HgP5hBqiETwtk/U57yIJwL0D85iLBClya1vzoteShkC9U/DAg+Gkhd6z+4k6QJ17XgP4Ysy2Xw5Os/A8TpFji+4T+GlDOr+pqpv/JEGSLnotI/lwetLdY66T8/O0mDhTXaP7GQnq/nKee/u42XATu+/j8yoQKF0jTmP2p9L85taNu/aKdDi22E2j8xfGgVRqrlPzM3rDJONNA/fjlsMT10BEC0k6QTDFhjvz10hSJpCe0/VJKR42l12T+PWt+y8znwP5mAK36oDfA/eqj7cmzHsD/avEvBKb3Iv4jkXX2vxeE/rV7ipF+Szz8f4TWwbAIFQIOBO1NYo8e/Qys1XS0I6z+nj2oE2yjxPx38A+M9Bts/uKTAq3yE5T/Y+zteX4jjP9x2Ilnq8+U/uSJfoH+r6z87eOdp3MbwP/ZDMiongNg/eNtvjSkT0T8gLdG5BEPwPw==\",\"dtype\":\"float64\",\"shape\":[47]}},\"selected\":{\"id\":\"1482\"},\"selection_policy\":{\"id\":\"1512\"}},\"id\":\"1481\",\"type\":\"ColumnDataSource\"},{\"attributes\":{\"fill_color\":{\"value\":\"#ff7e0e\"},\"line_color\":{\"value\":\"#ff7e0e\"},\"size\":{\"units\":\"screen\",\"value\":5.477225575051661},\"x\":{\"field\":\"principal component 1\"},\"y\":{\"field\":\"principal component 2\"}},\"id\":\"1500\",\"type\":\"Scatter\"},{\"attributes\":{\"label\":{\"value\":\"1\"},\"renderers\":[{\"id\":\"1503\"}]},\"id\":\"1513\",\"type\":\"LegendItem\"},{\"attributes\":{},\"id\":\"1465\",\"type\":\"PanTool\"},{\"attributes\":{\"fill_alpha\":{\"value\":0.2},\"fill_color\":{\"value\":\"#ff7e0e\"},\"line_alpha\":{\"value\":0.2},\"line_color\":{\"value\":\"#ff7e0e\"},\"size\":{\"units\":\"screen\",\"value\":5.477225575051661},\"x\":{\"field\":\"principal component 1\"},\"y\":{\"field\":\"principal component 2\"}},\"id\":\"1502\",\"type\":\"Scatter\"},{\"attributes\":{\"fill_color\":{\"value\":\"#2ba02b\"},\"line_color\":{\"value\":\"#2ba02b\"},\"size\":{\"units\":\"screen\",\"value\":5.477225575051661},\"x\":{\"field\":\"principal component 1\"},\"y\":{\"field\":\"principal component 2\"}},\"id\":\"1517\",\"type\":\"Scatter\"},{\"attributes\":{},\"id\":\"1452\",\"type\":\"LinearScale\"},{\"attributes\":{},\"id\":\"1468\",\"type\":\"ResetTool\"},{\"attributes\":{\"text\":\"\",\"text_color\":{\"value\":\"black\"},\"text_font_size\":{\"value\":\"12pt\"}},\"id\":\"1448\",\"type\":\"Title\"},{\"attributes\":{\"end\":3.2604144520280904,\"reset_end\":3.2604144520280904,\"reset_start\":-3.1961060534153822,\"start\":-3.1961060534153822,\"tags\":[[[\"principal component 2\",\"principal component 2\",null]]]},\"id\":\"1443\",\"type\":\"Range1d\"},{\"attributes\":{\"axis_label\":\"principal component 1\",\"bounds\":\"auto\",\"formatter\":{\"id\":\"1478\"},\"major_label_orientation\":\"horizontal\",\"ticker\":{\"id\":\"1457\"}},\"id\":\"1456\",\"type\":\"LinearAxis\"},{\"attributes\":{\"axis\":{\"id\":\"1460\"},\"dimension\":1,\"grid_line_color\":null,\"ticker\":null},\"id\":\"1463\",\"type\":\"Grid\"},{\"attributes\":{\"data_source\":{\"id\":\"1497\"},\"glyph\":{\"id\":\"1500\"},\"hover_glyph\":null,\"muted_glyph\":{\"id\":\"1502\"},\"nonselection_glyph\":{\"id\":\"1501\"},\"selection_glyph\":null,\"view\":{\"id\":\"1504\"}},\"id\":\"1503\",\"type\":\"GlyphRenderer\"},{\"attributes\":{\"active_drag\":\"auto\",\"active_inspect\":\"auto\",\"active_multi\":null,\"active_scroll\":\"auto\",\"active_tap\":\"auto\",\"tools\":[{\"id\":\"1444\"},{\"id\":\"1464\"},{\"id\":\"1465\"},{\"id\":\"1466\"},{\"id\":\"1467\"},{\"id\":\"1468\"}]},\"id\":\"1470\",\"type\":\"Toolbar\"},{\"attributes\":{\"label\":{\"value\":\"2\"},\"renderers\":[{\"id\":\"1520\"}]},\"id\":\"1532\",\"type\":\"LegendItem\"},{\"attributes\":{\"fill_alpha\":{\"value\":0.1},\"fill_color\":{\"value\":\"#2ba02b\"},\"line_alpha\":{\"value\":0.1},\"line_color\":{\"value\":\"#2ba02b\"},\"size\":{\"units\":\"screen\",\"value\":5.477225575051661},\"x\":{\"field\":\"principal component 1\"},\"y\":{\"field\":\"principal component 2\"}},\"id\":\"1518\",\"type\":\"Scatter\"},{\"attributes\":{\"data_source\":{\"id\":\"1514\"},\"glyph\":{\"id\":\"1517\"},\"hover_glyph\":null,\"muted_glyph\":{\"id\":\"1519\"},\"nonselection_glyph\":{\"id\":\"1518\"},\"selection_glyph\":null,\"view\":{\"id\":\"1521\"}},\"id\":\"1520\",\"type\":\"GlyphRenderer\"},{\"attributes\":{},\"id\":\"1461\",\"type\":\"BasicTicker\"},{\"attributes\":{},\"id\":\"1531\",\"type\":\"UnionRenderers\"},{\"attributes\":{\"data\":{\"class\":{\"__ndarray__\":\"AQAAAAEAAAABAAAAAQAAAAEAAAABAAAAAQAAAAEAAAABAAAAAQAAAAEAAAABAAAAAQAAAAEAAAABAAAAAQAAAAEAAAABAAAAAQAAAAEAAAABAAAAAQAAAAEAAAABAAAAAQAAAAEAAAABAAAAAQAAAAEAAAABAAAAAQAAAAEAAAABAAAAAQAAAAEAAAABAAAAAQAAAAEAAAABAAAAAQAAAAEAAAABAAAAAQAAAAEAAAABAAAAAQAAAAEAAAABAAAAAQAAAAEAAAA=\",\"dtype\":\"int32\",\"shape\":[50]},\"principal component 1\":{\"__ndarray__\":\"QhG/DcgdAsCiflXa/7AAwDAtSgGQ8QLArnjV6/5uAsB+OOBfNxwDwLAJAJp1kADA7VhZG9GQA8C5vPx66N4BwLvvZ05UvALA4tUzb2iCAcDFACQK0k4BwH+PWzp4ngLAbUHW4evKAcBzYBiPIx4FwN1kYiHQiQHA68LFMQADAsDAicmkO58BwNLnRqd8hQHADbKL2CBO/r9vMd43N7gCwDcu6+IFov6/KXpNIB2jAcAjHszufzEGwHOyHOBnIP2/c29EsmPTAcBqStBn+E//v+kJWiugagDAzxcE6nVYAcDz6Z27WB8BwCQNM3l7JgLA3+URJwwoAcCvCNRTnk/9v3WUD3eZ3QTAxYxIYeyAA8Di1TNvaIIBwAbB4qBfsAHAqAtPDPdaAMDi1TNvaIIBwKDdMoLUfAPAVCP02UddAcA84QHLzkoCwGRzDEaD8v2/YPlj5HF2BMD6iQQfsG3/v/iHnMYlEQHAoe7lFFWaAMDQ+qMb0QwDwJJmoB9/LwPAK5osq3LQAcDdjpZMy6UBwA==\",\"dtype\":\"float64\",\"shape\":[50]},\"principal component 2\":{\"__ndarray__\":\"WO9787ku4D/ZF8lWE/nkv3PYpqjuYdS/CSSQjGlp4r/R0afLsZflP7a+IZP5S/g/WSSoGooWsz9veXQ10LHPP8oIOjG4hfG/hk6pnFa23L9lMKXTKCHxPze/qP2XTMQ/oqo3kBix5r+AiXLvZwbuv9CryBtaPf4/jrWrfGrHBUBbjF03Ujj4PzP+/04udeA/7kk0V9Tl9j8lpZIPTofyP2DAlsG9jNs/1vKSxId67j9Eu+o4P1TfPx/WDBwFVLs/Vu1BJITCxD+1YRod23Pjv2uqjuRgBtE/aYxIfx6q4T/UGaA2hIvVP1dBWpX4JtS/PwayRej43r8Hlx54QH/cP7RxJTRvQf0/wbJwma57AUCGTqmcVrbcvxzn16FhmMe/qOVDvSnr5T+GTqmcVrbcv2/EP1q7Ouy/cUSP1gm80j9RwmaGk/PdP3x/28YcnwLAl+8l3FML3b9mssu+Q9XfP+zeGJkvvvI/9owv2S8k5r9RqsG4/WjyP8uttwhpMde/dO6vZGBo8D/G7UmWeoGgPw==\",\"dtype\":\"float64\",\"shape\":[50]},\"principal_component_1\":{\"__ndarray__\":\"QhG/DcgdAsCiflXa/7AAwDAtSgGQ8QLArnjV6/5uAsB+OOBfNxwDwLAJAJp1kADA7VhZG9GQA8C5vPx66N4BwLvvZ05UvALA4tUzb2iCAcDFACQK0k4BwH+PWzp4ngLAbUHW4evKAcBzYBiPIx4FwN1kYiHQiQHA68LFMQADAsDAicmkO58BwNLnRqd8hQHADbKL2CBO/r9vMd43N7gCwDcu6+IFov6/KXpNIB2jAcAjHszufzEGwHOyHOBnIP2/c29EsmPTAcBqStBn+E//v+kJWiugagDAzxcE6nVYAcDz6Z27WB8BwCQNM3l7JgLA3+URJwwoAcCvCNRTnk/9v3WUD3eZ3QTAxYxIYeyAA8Di1TNvaIIBwAbB4qBfsAHAqAtPDPdaAMDi1TNvaIIBwKDdMoLUfAPAVCP02UddAcA84QHLzkoCwGRzDEaD8v2/YPlj5HF2BMD6iQQfsG3/v/iHnMYlEQHAoe7lFFWaAMDQ+qMb0QwDwJJmoB9/LwPAK5osq3LQAcDdjpZMy6UBwA==\",\"dtype\":\"float64\",\"shape\":[50]},\"principal_component_2\":{\"__ndarray__\":\"WO9787ku4D/ZF8lWE/nkv3PYpqjuYdS/CSSQjGlp4r/R0afLsZflP7a+IZP5S/g/WSSoGooWsz9veXQ10LHPP8oIOjG4hfG/hk6pnFa23L9lMKXTKCHxPze/qP2XTMQ/oqo3kBix5r+AiXLvZwbuv9CryBtaPf4/jrWrfGrHBUBbjF03Ujj4PzP+/04udeA/7kk0V9Tl9j8lpZIPTofyP2DAlsG9jNs/1vKSxId67j9Eu+o4P1TfPx/WDBwFVLs/Vu1BJITCxD+1YRod23Pjv2uqjuRgBtE/aYxIfx6q4T/UGaA2hIvVP1dBWpX4JtS/PwayRej43r8Hlx54QH/cP7RxJTRvQf0/wbJwma57AUCGTqmcVrbcvxzn16FhmMe/qOVDvSnr5T+GTqmcVrbcv2/EP1q7Ouy/cUSP1gm80j9RwmaGk/PdP3x/28YcnwLAl+8l3FML3b9mssu+Q9XfP+zeGJkvvvI/9owv2S8k5r9RqsG4/WjyP8uttwhpMde/dO6vZGBo8D/G7UmWeoGgPw==\",\"dtype\":\"float64\",\"shape\":[50]}},\"selected\":{\"id\":\"1498\"},\"selection_policy\":{\"id\":\"1531\"}},\"id\":\"1497\",\"type\":\"ColumnDataSource\"},{\"attributes\":{\"end\":3.5698545102352757,\"reset_end\":3.5698545102352757,\"reset_start\":-3.0348831212643526,\"start\":-3.0348831212643526,\"tags\":[[[\"principal component 1\",\"principal component 1\",null]]]},\"id\":\"1442\",\"type\":\"Range1d\"},{\"attributes\":{\"fill_alpha\":{\"value\":0.1},\"fill_color\":{\"value\":\"#1f77b3\"},\"line_alpha\":{\"value\":0.1},\"line_color\":{\"value\":\"#1f77b3\"},\"size\":{\"units\":\"screen\",\"value\":5.477225575051661},\"x\":{\"field\":\"principal component 1\"},\"y\":{\"field\":\"principal component 2\"}},\"id\":\"1485\",\"type\":\"Scatter\"},{\"attributes\":{\"margin\":[5,5,5,5],\"name\":\"HSpacer02562\",\"sizing_mode\":\"stretch_width\"},\"id\":\"1629\",\"type\":\"Spacer\"},{\"attributes\":{\"fill_alpha\":{\"value\":0.1},\"fill_color\":{\"value\":\"#ff7e0e\"},\"line_alpha\":{\"value\":0.1},\"line_color\":{\"value\":\"#ff7e0e\"},\"size\":{\"units\":\"screen\",\"value\":5.477225575051661},\"x\":{\"field\":\"principal component 1\"},\"y\":{\"field\":\"principal component 2\"}},\"id\":\"1501\",\"type\":\"Scatter\"},{\"attributes\":{\"children\":[{\"id\":\"1441\"},{\"id\":\"1447\"},{\"id\":\"1629\"}],\"margin\":[0,0,0,0],\"name\":\"Row02557\",\"tags\":[\"embedded\"]},\"id\":\"1440\",\"type\":\"Row\"},{\"attributes\":{\"fill_alpha\":{\"value\":0.2},\"fill_color\":{\"value\":\"#1f77b3\"},\"line_alpha\":{\"value\":0.2},\"line_color\":{\"value\":\"#1f77b3\"},\"size\":{\"units\":\"screen\",\"value\":5.477225575051661},\"x\":{\"field\":\"principal component 1\"},\"y\":{\"field\":\"principal component 2\"}},\"id\":\"1486\",\"type\":\"Scatter\"}],\"root_ids\":[\"1440\"]},\"title\":\"Bokeh Application\",\"version\":\"2.0.2\"}};\n",
       "  var render_items = [{\"docid\":\"f9befd3c-6ddf-4e02-a218-a6fcf875b592\",\"root_ids\":[\"1440\"],\"roots\":{\"1440\":\"5845f8ad-24f8-4eff-99f4-8bc0a4734d78\"}}];\n",
       "  root.Bokeh.embed.embed_items_notebook(docs_json, render_items);\n",
       "  }\n",
       "if (root.Bokeh !== undefined) {\n",
       "    embed_document(root);\n",
       "  } else {\n",
       "    var attempts = 0;\n",
       "    var timer = setInterval(function(root) {\n",
       "      if (root.Bokeh !== undefined) {\n",
       "        clearInterval(timer);\n",
       "        embed_document(root);\n",
       "      } else if (document.readyState == \"complete\") {\n",
       "        attempts++;\n",
       "        if (attempts > 100) {\n",
       "          clearInterval(timer);\n",
       "          console.log(\"Bokeh: ERROR: Unable to run BokehJS code because BokehJS library is missing\");\n",
       "        }\n",
       "      }\n",
       "    }, 10, root)\n",
       "  }\n",
       "})(window);</script>"
      ],
      "text/plain": [
       ":NdOverlay   [class]\n",
       "   :Scatter   [principal component 1]   (principal component 2,class)"
      ]
     },
     "execution_count": 27,
     "metadata": {
      "application/vnd.holoviews_exec.v0+json": {
       "id": "1440"
      }
     },
     "output_type": "execute_result"
    }
   ],
   "source": [
    "# Plot the clusters\n",
    "\n",
    "df_iris_pca.hvplot.scatter(\n",
    "\tx=\"principal component 1\",\n",
    "\ty=\"principal component 2\",\n",
    "\thover_cols=[\"class\"],\n",
    "\tby=\"class\",\n",
    ")"
   ]
  },
  {
   "cell_type": "code",
   "execution_count": null,
   "metadata": {},
   "outputs": [],
   "source": []
  }
 ],
 "metadata": {
  "kernelspec": {
   "display_name": "PythonData",
   "language": "python",
   "name": "pythondata"
  },
  "language_info": {
   "codemirror_mode": {
    "name": "ipython",
    "version": 3
   },
   "file_extension": ".py",
   "mimetype": "text/x-python",
   "name": "python",
   "nbconvert_exporter": "python",
   "pygments_lexer": "ipython3",
   "version": "3.7.7"
  }
 },
 "nbformat": 4,
 "nbformat_minor": 4
}
